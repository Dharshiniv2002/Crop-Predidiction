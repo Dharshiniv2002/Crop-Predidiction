{
 "cells": [
  {
   "cell_type": "code",
   "execution_count": 1,
   "metadata": {},
   "outputs": [],
   "source": [
    "import numpy as np\n",
    "import pandas as pd\n",
    "import matplotlib.pyplot as plt"
   ]
  },
  {
   "cell_type": "code",
   "execution_count": 3,
   "metadata": {},
   "outputs": [
    {
     "data": {
      "text/html": [
       "<div>\n",
       "<style scoped>\n",
       "    .dataframe tbody tr th:only-of-type {\n",
       "        vertical-align: middle;\n",
       "    }\n",
       "\n",
       "    .dataframe tbody tr th {\n",
       "        vertical-align: top;\n",
       "    }\n",
       "\n",
       "    .dataframe thead th {\n",
       "        text-align: right;\n",
       "    }\n",
       "</style>\n",
       "<table border=\"1\" class=\"dataframe\">\n",
       "  <thead>\n",
       "    <tr style=\"text-align: right;\">\n",
       "      <th></th>\n",
       "      <th>State</th>\n",
       "      <th>District</th>\n",
       "      <th>District.1</th>\n",
       "      <th>Season</th>\n",
       "      <th>N</th>\n",
       "      <th>P</th>\n",
       "      <th>K</th>\n",
       "      <th>temperature</th>\n",
       "      <th>humidity</th>\n",
       "      <th>ph</th>\n",
       "      <th>rainfall</th>\n",
       "      <th>Crop</th>\n",
       "    </tr>\n",
       "  </thead>\n",
       "  <tbody>\n",
       "    <tr>\n",
       "      <th>0</th>\n",
       "      <td>Andaman and Nicobar</td>\n",
       "      <td>Nicobars</td>\n",
       "      <td>Nicobars</td>\n",
       "      <td>Monsoon</td>\n",
       "      <td>90</td>\n",
       "      <td>42</td>\n",
       "      <td>43</td>\n",
       "      <td>20.879744</td>\n",
       "      <td>82.002744</td>\n",
       "      <td>6.502985</td>\n",
       "      <td>202.935536</td>\n",
       "      <td>Arecanut</td>\n",
       "    </tr>\n",
       "    <tr>\n",
       "      <th>1</th>\n",
       "      <td>Andaman and Nicobar</td>\n",
       "      <td>Nicobars</td>\n",
       "      <td>Nicobars</td>\n",
       "      <td>Monsoon</td>\n",
       "      <td>85</td>\n",
       "      <td>58</td>\n",
       "      <td>41</td>\n",
       "      <td>21.770462</td>\n",
       "      <td>80.319644</td>\n",
       "      <td>7.038096</td>\n",
       "      <td>226.655537</td>\n",
       "      <td>Other Kharif pulses</td>\n",
       "    </tr>\n",
       "    <tr>\n",
       "      <th>2</th>\n",
       "      <td>Andaman and Nicobar</td>\n",
       "      <td>Nicobars</td>\n",
       "      <td>Nicobars</td>\n",
       "      <td>Monsoon</td>\n",
       "      <td>60</td>\n",
       "      <td>55</td>\n",
       "      <td>44</td>\n",
       "      <td>23.004459</td>\n",
       "      <td>82.320763</td>\n",
       "      <td>7.840207</td>\n",
       "      <td>263.964248</td>\n",
       "      <td>Rice</td>\n",
       "    </tr>\n",
       "    <tr>\n",
       "      <th>3</th>\n",
       "      <td>Andaman and Nicobar</td>\n",
       "      <td>Nicobars</td>\n",
       "      <td>Nicobars</td>\n",
       "      <td>Whole Year</td>\n",
       "      <td>74</td>\n",
       "      <td>35</td>\n",
       "      <td>40</td>\n",
       "      <td>26.491096</td>\n",
       "      <td>80.158363</td>\n",
       "      <td>6.980401</td>\n",
       "      <td>242.864034</td>\n",
       "      <td>Banana</td>\n",
       "    </tr>\n",
       "    <tr>\n",
       "      <th>4</th>\n",
       "      <td>Andaman and Nicobar</td>\n",
       "      <td>Nicobars</td>\n",
       "      <td>Nicobars</td>\n",
       "      <td>Whole Year</td>\n",
       "      <td>78</td>\n",
       "      <td>42</td>\n",
       "      <td>42</td>\n",
       "      <td>20.130175</td>\n",
       "      <td>81.604873</td>\n",
       "      <td>7.628473</td>\n",
       "      <td>262.717340</td>\n",
       "      <td>Cashewnut</td>\n",
       "    </tr>\n",
       "  </tbody>\n",
       "</table>\n",
       "</div>"
      ],
      "text/plain": [
       "                 State  District District.1      Season   N   P   K  \\\n",
       "0  Andaman and Nicobar  Nicobars   Nicobars     Monsoon  90  42  43   \n",
       "1  Andaman and Nicobar  Nicobars   Nicobars     Monsoon  85  58  41   \n",
       "2  Andaman and Nicobar  Nicobars   Nicobars     Monsoon  60  55  44   \n",
       "3  Andaman and Nicobar  Nicobars   Nicobars  Whole Year  74  35  40   \n",
       "4  Andaman and Nicobar  Nicobars   Nicobars  Whole Year  78  42  42   \n",
       "\n",
       "   temperature   humidity        ph    rainfall                 Crop  \n",
       "0    20.879744  82.002744  6.502985  202.935536             Arecanut  \n",
       "1    21.770462  80.319644  7.038096  226.655537  Other Kharif pulses  \n",
       "2    23.004459  82.320763  7.840207  263.964248                 Rice  \n",
       "3    26.491096  80.158363  6.980401  242.864034               Banana  \n",
       "4    20.130175  81.604873  7.628473  262.717340            Cashewnut  "
      ]
     },
     "execution_count": 3,
     "metadata": {},
     "output_type": "execute_result"
    }
   ],
   "source": [
    "data = pd.read_csv(\"Complete.csv\")\n",
    "data.head()"
   ]
  },
  {
   "cell_type": "code",
   "execution_count": 11,
   "metadata": {},
   "outputs": [],
   "source": [
    "x = data.iloc[:,:-1].values\n",
    "y = data.iloc[:,-1].values\n"
   ]
  },
  {
   "cell_type": "code",
   "execution_count": 12,
   "metadata": {},
   "outputs": [
    {
     "data": {
      "text/plain": [
       "array([['Andaman and Nicobar', 'Nicobars', 'Nicobars', ..., 82.00274423,\n",
       "        6.502985292, 202.9355362],\n",
       "       ['Andaman and Nicobar', 'Nicobars', 'Nicobars', ..., 80.31964408,\n",
       "        7.038096361, 226.6555374],\n",
       "       ['Andaman and Nicobar', 'Nicobars', 'Nicobars', ..., 82.3207629,\n",
       "        7.840207144, 263.9642476],\n",
       "       ...,\n",
       "       ['West Bengal', 'PURULIA', 'Purulia', ..., 62.04814951,\n",
       "        6.861640036, 37.81123974],\n",
       "       ['West Bengal', 'PURULIA', 'Purulia', ..., 68.10365387,\n",
       "        6.978361689, 48.80253285],\n",
       "       ['West Bengal', 'PURULIA', 'Purulia', ..., 69.29786244,\n",
       "        7.043160241, 42.72374404]], dtype=object)"
      ]
     },
     "execution_count": 12,
     "metadata": {},
     "output_type": "execute_result"
    }
   ],
   "source": [
    "x"
   ]
  },
  {
   "cell_type": "code",
   "execution_count": 13,
   "metadata": {},
   "outputs": [
    {
     "data": {
      "text/plain": [
       "array(['Arecanut', 'Other Kharif pulses', 'Rice', ..., 'Sugarcane',\n",
       "       'Rice', 'Sesamum'], dtype=object)"
      ]
     },
     "execution_count": 13,
     "metadata": {},
     "output_type": "execute_result"
    }
   ],
   "source": [
    "y"
   ]
  },
  {
   "cell_type": "code",
   "execution_count": 15,
   "metadata": {},
   "outputs": [
    {
     "name": "stdout",
     "output_type": "stream",
     "text": [
      "  (0, 0)\t1.0\n",
      "  (0, 446)\t1.0\n",
      "  (0, 1060)\t1.0\n",
      "  (0, 1269)\t1.0\n",
      "  (0, 1273)\t90.0\n",
      "  (0, 1274)\t42.0\n",
      "  (0, 1275)\t43.0\n",
      "  (0, 1276)\t20.87974371\n",
      "  (0, 1277)\t82.00274423\n",
      "  (0, 1278)\t6.502985292\n",
      "  (0, 1279)\t202.9355362\n",
      "  (1, 0)\t1.0\n",
      "  (1, 446)\t1.0\n",
      "  (1, 1060)\t1.0\n",
      "  (1, 1269)\t1.0\n",
      "  (1, 1273)\t85.0\n",
      "  (1, 1274)\t58.0\n",
      "  (1, 1275)\t41.0\n",
      "  (1, 1276)\t21.77046169\n",
      "  (1, 1277)\t80.31964408\n",
      "  (1, 1278)\t7.038096361\n",
      "  (1, 1279)\t226.6555374\n",
      "  (2, 0)\t1.0\n",
      "  (2, 446)\t1.0\n",
      "  (2, 1060)\t1.0\n",
      "  :\t:\n",
      "  (242978, 1277)\t62.04814951\n",
      "  (242978, 1278)\t6.861640036\n",
      "  (242978, 1279)\t37.81123974\n",
      "  (242979, 29)\t1.0\n",
      "  (242979, 471)\t1.0\n",
      "  (242979, 1100)\t1.0\n",
      "  (242979, 1272)\t1.0\n",
      "  (242979, 1273)\t5.0\n",
      "  (242979, 1274)\t65.0\n",
      "  (242979, 1275)\t19.0\n",
      "  (242979, 1276)\t18.28072173\n",
      "  (242979, 1277)\t68.10365387\n",
      "  (242979, 1278)\t6.978361689\n",
      "  (242979, 1279)\t48.80253285\n",
      "  (242980, 29)\t1.0\n",
      "  (242980, 471)\t1.0\n",
      "  (242980, 1100)\t1.0\n",
      "  (242980, 1272)\t1.0\n",
      "  (242980, 1273)\t16.0\n",
      "  (242980, 1274)\t65.0\n",
      "  (242980, 1275)\t19.0\n",
      "  (242980, 1276)\t27.61204997\n",
      "  (242980, 1277)\t69.29786244\n",
      "  (242980, 1278)\t7.043160241\n",
      "  (242980, 1279)\t42.72374404\n"
     ]
    }
   ],
   "source": [
    "from sklearn.compose import ColumnTransformer\n",
    "from sklearn.preprocessing import OneHotEncoder\n",
    "ct = ColumnTransformer(transformers=[('encoder', OneHotEncoder(), [0,1,2,3])], remainder='passthrough')\n",
    "X = np.array(ct.fit_transform(x))\n",
    "print(X)"
   ]
  },
  {
   "cell_type": "code",
   "execution_count": 17,
   "metadata": {},
   "outputs": [
    {
     "name": "stdout",
     "output_type": "stream",
     "text": [
      "  (0, 0)\t1.0\n",
      "  (0, 446)\t1.0\n",
      "  (0, 1060)\t1.0\n",
      "  (0, 1269)\t1.0\n",
      "  (0, 1273)\t90.0\n",
      "  (0, 1274)\t42.0\n",
      "  (0, 1275)\t43.0\n",
      "  (0, 1276)\t20.87974371\n",
      "  (0, 1277)\t82.00274423\n",
      "  (0, 1278)\t6.502985292\n",
      "  (0, 1279)\t202.9355362\n",
      "  (1, 0)\t1.0\n",
      "  (1, 446)\t1.0\n",
      "  (1, 1060)\t1.0\n",
      "  (1, 1269)\t1.0\n",
      "  (1, 1273)\t85.0\n",
      "  (1, 1274)\t58.0\n",
      "  (1, 1275)\t41.0\n",
      "  (1, 1276)\t21.77046169\n",
      "  (1, 1277)\t80.31964408\n",
      "  (1, 1278)\t7.038096361\n",
      "  (1, 1279)\t226.6555374\n",
      "  (2, 0)\t1.0\n",
      "  (2, 446)\t1.0\n",
      "  (2, 1060)\t1.0\n",
      "  :\t:\n",
      "  (242978, 1277)\t62.04814951\n",
      "  (242978, 1278)\t6.861640036\n",
      "  (242978, 1279)\t37.81123974\n",
      "  (242979, 29)\t1.0\n",
      "  (242979, 471)\t1.0\n",
      "  (242979, 1100)\t1.0\n",
      "  (242979, 1272)\t1.0\n",
      "  (242979, 1273)\t5.0\n",
      "  (242979, 1274)\t65.0\n",
      "  (242979, 1275)\t19.0\n",
      "  (242979, 1276)\t18.28072173\n",
      "  (242979, 1277)\t68.10365387\n",
      "  (242979, 1278)\t6.978361689\n",
      "  (242979, 1279)\t48.80253285\n",
      "  (242980, 29)\t1.0\n",
      "  (242980, 471)\t1.0\n",
      "  (242980, 1100)\t1.0\n",
      "  (242980, 1272)\t1.0\n",
      "  (242980, 1273)\t16.0\n",
      "  (242980, 1274)\t65.0\n",
      "  (242980, 1275)\t19.0\n",
      "  (242980, 1276)\t27.61204997\n",
      "  (242980, 1277)\t69.29786244\n",
      "  (242980, 1278)\t7.043160241\n",
      "  (242980, 1279)\t42.72374404\n"
     ]
    }
   ],
   "source": [
    "print(X)"
   ]
  },
  {
   "cell_type": "code",
   "execution_count": 18,
   "metadata": {},
   "outputs": [],
   "source": [
    "from sklearn.preprocessing import LabelEncoder\n",
    "le = LabelEncoder()\n",
    "y = le.fit_transform(y)"
   ]
  },
  {
   "cell_type": "code",
   "execution_count": 19,
   "metadata": {},
   "outputs": [
    {
     "data": {
      "text/plain": [
       "array([  2,  73,  96, ..., 107,  96, 103])"
      ]
     },
     "execution_count": 19,
     "metadata": {},
     "output_type": "execute_result"
    }
   ],
   "source": [
    "y"
   ]
  }
 ],
 "metadata": {
  "kernelspec": {
   "display_name": "base",
   "language": "python",
   "name": "python3"
  },
  "language_info": {
   "codemirror_mode": {
    "name": "ipython",
    "version": 3
   },
   "file_extension": ".py",
   "mimetype": "text/x-python",
   "name": "python",
   "nbconvert_exporter": "python",
   "pygments_lexer": "ipython3",
   "version": "3.9.13"
  },
  "orig_nbformat": 4,
  "vscode": {
   "interpreter": {
    "hash": "9c9ea4b43831b4e5c1728058c1be33d1d415873cd976baea1fa305fca265cd2f"
   }
  }
 },
 "nbformat": 4,
 "nbformat_minor": 2
}
